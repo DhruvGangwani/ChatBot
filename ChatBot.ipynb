{
  "nbformat": 4,
  "nbformat_minor": 0,
  "metadata": {
    "colab": {
      "name": "Untitled26.ipynb",
      "provenance": []
    },
    "kernelspec": {
      "name": "python3",
      "display_name": "Python 3"
    }
  },
  "cells": [
    {
      "cell_type": "code",
      "metadata": {
        "id": "hXWCMs4_W4gL",
        "colab_type": "code",
        "outputId": "fed3f408-ec2e-4278-9d60-4b010692becf",
        "colab": {
          "base_uri": "https://localhost:8080/",
          "height": 85
        }
      },
      "source": [
        "import re\n",
        "from nltk.stem import WordNetLemmatizer \n",
        "lemmatizer = WordNetLemmatizer() \n",
        "import nltk\n",
        "nltk.download('wordnet')\n",
        "nltk.download('punkt')\n",
        "from sklearn.feature_extraction.text import TfidfVectorizer\n",
        "from sklearn.metrics.pairwise import cosine_similarity\n",
        "import random"
      ],
      "execution_count": 12,
      "outputs": [
        {
          "output_type": "stream",
          "text": [
            "[nltk_data] Downloading package wordnet to /root/nltk_data...\n",
            "[nltk_data]   Package wordnet is already up-to-date!\n",
            "[nltk_data] Downloading package punkt to /root/nltk_data...\n",
            "[nltk_data]   Package punkt is already up-to-date!\n"
          ],
          "name": "stdout"
        }
      ]
    },
    {
      "cell_type": "code",
      "metadata": {
        "id": "E88hXdWDDSxP",
        "colab_type": "code",
        "colab": {}
      },
      "source": [
        "with open('article.txt','r') as f:\n",
        "  article_text = f.read()"
      ],
      "execution_count": 0,
      "outputs": []
    },
    {
      "cell_type": "code",
      "metadata": {
        "id": "wc_FXrcY0lq8",
        "colab_type": "code",
        "colab": {}
      },
      "source": [
        "sentences = []\n",
        "text = nltk.sent_tokenize(article_text)\n",
        "def pre_process(text):\n",
        "  for article_text in text:\n",
        "    pattern = r'\\[[^\\]]*\\]'\n",
        "    article_text = re.sub(pattern,' ',article_text)\n",
        "    article_text = re.sub('[^A-z.,\\-0-9\\s]','',article_text)\n",
        "    article_text = re.sub('\\s+',' ',article_text)\n",
        "    sent = article_text.split()\n",
        "    for word in range(len(sent)):\n",
        "        sent[word] = sent[word]#lemmatizer.lemmatize(sent[word])\n",
        "    sent = ' '.join([x for x in sent])\n",
        "    sentences.append(sent)\n",
        "  return sentences\n"
      ],
      "execution_count": 0,
      "outputs": []
    },
    {
      "cell_type": "code",
      "metadata": {
        "id": "q85I_BUJfWn3",
        "colab_type": "code",
        "colab": {}
      },
      "source": [
        "all_sent = pre_process(text)"
      ],
      "execution_count": 0,
      "outputs": []
    },
    {
      "cell_type": "code",
      "metadata": {
        "id": "X0UBF5V4YMwR",
        "colab_type": "code",
        "colab": {}
      },
      "source": [
        "def get_response(query):\n",
        "  all_sent.append(query)\n",
        "  \n",
        "  word_vectorizer = TfidfVectorizer(stop_words='english')\n",
        "  all_sentences = word_vectorizer.fit_transform(all_sent)\n",
        "  similar_vector_values = cosine_similarity(all_sentences[-1], all_sentences)\n",
        "  similar_sentence_number = similar_vector_values.argsort()[0][-2]\n",
        "  all_sent.pop(len(all_sent)-1)\n",
        "  matched_vector = similar_vector_values.flatten()\n",
        "  matched_vector.sort()\n",
        "  vector_matched = matched_vector[-2]\n",
        "\n",
        "  if vector_matched == 0:\n",
        "      response =  \"Sorry, I did'nt get you\"\n",
        "      return response\n",
        "  else:\n",
        "      response =  all_sent[similar_sentence_number]\n",
        "      return response\n",
        "\n"
      ],
      "execution_count": 0,
      "outputs": []
    },
    {
      "cell_type": "code",
      "metadata": {
        "id": "86tYDmKmZ2RT",
        "colab_type": "code",
        "colab": {}
      },
      "source": [
        "def create_bot(): \n",
        "  print('CoronaBot : Hy I am CoronaBot, wanna know anything about Covid 19 ?? Ask Me')\n",
        "  flag = 'True'\n",
        "  greetings = ['hello','hy','good morning','good evening','good afternoon','greetings','greetings of the day']\n",
        "  while flag == 'True':\n",
        "    query = input('User : ')\n",
        "    \n",
        "    query = query.strip().lower()\n",
        "    if query in  ['bye','thanks','thank you']:\n",
        "      flag = 'False'\n",
        "      response = 'Thank You. Hope your all questions are answered satisfactorily'\n",
        "    else:\n",
        "      if query in greetings:\n",
        "        response = random.choice(['Hello, I am CoronaBot','Hy, I am CoronaBot'])\n",
        "      else:\n",
        "        response = get_response(query)\n",
        "    \n",
        "    print('CoronaBot : {}'.format(response))"
      ],
      "execution_count": 0,
      "outputs": []
    },
    {
      "cell_type": "code",
      "metadata": {
        "id": "arh6_syu2ceZ",
        "colab_type": "code",
        "colab": {
          "base_uri": "https://localhost:8080/",
          "height": 360
        },
        "outputId": "391bdd67-77c0-4810-c5b9-b2e07d7b0be2"
      },
      "source": [
        "create_bot()"
      ],
      "execution_count": 28,
      "outputs": [
        {
          "output_type": "stream",
          "text": [
            "CoronaBot : Hy I am CoronaBot, wanna know anything about Covid 19 ?? Ask Me\n",
            "User : Hello\n",
            "CoronaBot : Hy, I am CoronaBot\n",
            "User : What is Corona virus\n",
            "CoronaBot : COVID-19 is the infectious disease caused by the most recently discovered corona virus.\n",
            "User : What about its Vaccine\n",
            "CoronaBot : To date, there is no vaccine and no specific antiviral medicine to prevent or treat COVID-2019.\n",
            "User : What is its precautions\n",
            "CoronaBot : You can reduce your chances of being infected or spreading COVID- 19 by taking some simple precautions Regularly and thoroughly clean your hands with an alcohol- based hand rub or wash them with soap and water.\n",
            "User : What are mask precautions\n",
            "CoronaBot : After use, take off the mask remove the elastic loops from behind the ears while keeping the mask away from your face and clothes, to avoid touching potentially contaminated surfaces of the mask.\n",
            "User : What is Incubation Period\n",
            "CoronaBot : The incubation period means the time between catching the virus and beginning to have symptoms of the disease.\n",
            "User : Incubation Period(in Days)\n",
            "CoronaBot : Most estimates of the incubation period for COVID-19 range from 1-14 days, most commonly around five days.\n",
            "User : What are common symptoms\n",
            "CoronaBot : The most common symptoms of COVID-19 are fever, tiredness, and dry cough.\n",
            "User : Thank You\n",
            "CoronaBot : Thank You. Hope your all questions are answered satisfactorily\n"
          ],
          "name": "stdout"
        }
      ]
    },
    {
      "cell_type": "code",
      "metadata": {
        "id": "q8zmWZJE2eYp",
        "colab_type": "code",
        "colab": {}
      },
      "source": [
        ""
      ],
      "execution_count": 0,
      "outputs": []
    }
  ]
}